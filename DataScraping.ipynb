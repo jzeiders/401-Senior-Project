{
 "cells": [
  {
   "cell_type": "markdown",
   "metadata": {
    "colab_type": "text",
    "id": "view-in-github"
   },
   "source": [
    "<a href=\"https://colab.research.google.com/github/jzeiders/401-Senior-Project/blob/master/DataScraping.ipynb\" target=\"_parent\"><img src=\"https://colab.research.google.com/assets/colab-badge.svg\" alt=\"Open In Colab\"/></a>"
   ]
  },
  {
   "cell_type": "markdown",
   "metadata": {
    "colab_type": "text",
    "id": "ld3WQslUxty4"
   },
   "source": [
    "### Imports"
   ]
  },
  {
   "cell_type": "code",
   "execution_count": 0,
   "metadata": {
    "colab": {},
    "colab_type": "code",
    "id": "48R3Ri20xnLp"
   },
   "outputs": [],
   "source": [
    "import csv\n",
    "import os\n",
    "import shutil\n",
    "\n",
    "import urllib\n",
    "import requests"
   ]
  },
  {
   "cell_type": "markdown",
   "metadata": {
    "colab_type": "text",
    "id": "2QhYnfQvxwbr"
   },
   "source": [
    "### Setup file directories"
   ]
  },
  {
   "cell_type": "code",
   "execution_count": 0,
   "metadata": {
    "colab": {},
    "colab_type": "code",
    "id": "F03ouwRLx1nr"
   },
   "outputs": [],
   "source": [
    "save_dir = \"/content/drive/My Drive/images\" #replace with your own location\n",
    "key = \"&key=\" + \"\" #got banned after ~100 requests with no key"
   ]
  },
  {
   "cell_type": "markdown",
   "metadata": {
    "colab_type": "text",
    "id": "U_VvNSHGG-rk"
   },
   "source": [
    "#### Mount Google Drive Locally"
   ]
  },
  {
   "cell_type": "code",
   "execution_count": 14,
   "metadata": {
    "colab": {
     "base_uri": "https://localhost:8080/",
     "height": 54
    },
    "colab_type": "code",
    "id": "s29UnB9IHadM",
    "outputId": "7d3a3cfb-b098-49eb-b891-38b27cd3a71e"
   },
   "outputs": [
    {
     "name": "stdout",
     "output_type": "stream",
     "text": [
      "Drive already mounted at /content/drive; to attempt to forcibly remount, call drive.mount(\"/content/drive\", force_remount=True).\n"
     ]
    }
   ],
   "source": [
    "from google.colab import drive\n",
    "drive.mount('/content/drive')"
   ]
  },
  {
   "cell_type": "markdown",
   "metadata": {
    "colab_type": "text",
    "id": "Lpfagz17x8wH"
   },
   "source": [
    "### Utility Functions"
   ]
  },
  {
   "cell_type": "markdown",
   "metadata": {
    "colab_type": "text",
    "id": "5Bie00zQGP5H"
   },
   "source": [
    "###### Query Street View API"
   ]
  },
  {
   "cell_type": "code",
   "execution_count": 39,
   "metadata": {
    "colab": {
     "base_uri": "https://localhost:8080/",
     "height": 52
    },
    "colab_type": "code",
    "id": "udnl3QlxuwPQ",
    "outputId": "d762e00f-88d4-4435-ca0e-b18c8bd508ed"
   },
   "outputs": [
    {
     "name": "stdout",
     "output_type": "stream",
     "text": [
      "'14214 Arlington Street, Detroit, Michigan 48212.jpg'\n",
      "'457 West Robinwood Street, Detroit, Michigan 48203.jpg'\n"
     ]
    }
   ],
   "source": [
    "def get_image(add,save_loc):\n",
    "  base = \"https://maps.googleapis.com/maps/api/streetview?size=1200x800&location=\"\n",
    "  url = base + requests.compat.quote_plus(add) + key #added url encoding\n",
    "  img_file = add + \".jpg\"\n",
    "\n",
    "  response = requests.get(url, stream=True)\n",
    "  with open(os.path.join(save_dir,img_file), 'wb') as out_file:\n",
    "    response.raw.decode_content = True\n",
    "    shutil.copyfileobj(response.raw, out_file)\n",
    "  del response\n",
    "\n",
    "!ls /content/drive/My\\ Drive/images/"
   ]
  },
  {
   "cell_type": "markdown",
   "metadata": {
    "colab_type": "text",
    "id": "fWw1BIm2yAea"
   },
   "source": [
    "### Download street view images from provided CSV"
   ]
  },
  {
   "cell_type": "code",
   "execution_count": 0,
   "metadata": {
    "colab": {},
    "colab_type": "code",
    "id": "t2_YbglyyGjP"
   },
   "outputs": [],
   "source": [
    "Tests = [\"457 West Robinwood Street, Detroit, Michigan 48203\",\n",
    "        #  \"1520 West Philadelphia, Detroit, Michigan 48206\",\n",
    "        #  \"2292 Grand, Detroit, Michigan 48238\",\n",
    "        #  \"15414 Wabash Street, Detroit, Michigan 48238\",\n",
    "        #  \"15867 Log Cabin, Detroit, Michigan 48238\",\n",
    "        #  \"3317 Cody Street, Detroit, Michigan 48212\",\n",
    "         \"14214 Arlington Street, Detroit, Michigan 48212\"]\n",
    "\n",
    "for i in Tests:\n",
    "  get_image(add=i,save_loc=myloc)"
   ]
  }
 ],
 "metadata": {
  "accelerator": "GPU",
  "colab": {
   "collapsed_sections": [],
   "include_colab_link": true,
   "name": "DataScraping.ipynb",
   "provenance": [],
   "toc_visible": true
  },
  "kernelspec": {
   "display_name": "Python 3",
   "language": "python",
   "name": "python3"
  },
  "language_info": {
   "codemirror_mode": {
    "name": "ipython",
    "version": 3
   },
   "file_extension": ".py",
   "mimetype": "text/x-python",
   "name": "python",
   "nbconvert_exporter": "python",
   "pygments_lexer": "ipython3",
   "version": "3.7.6"
  }
 },
 "nbformat": 4,
 "nbformat_minor": 1
}
