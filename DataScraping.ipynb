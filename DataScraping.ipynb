{
  "nbformat": 4,
  "nbformat_minor": 0,
  "metadata": {
    "colab": {
      "name": "DataScraping.ipynb",
      "provenance": [],
      "collapsed_sections": [],
      "toc_visible": true,
      "include_colab_link": true
    },
    "kernelspec": {
      "name": "python3",
      "display_name": "Python 3"
    },
    "accelerator": "GPU"
  },
  "cells": [
    {
      "cell_type": "markdown",
      "metadata": {
        "id": "view-in-github",
        "colab_type": "text"
      },
      "source": [
        "<a href=\"https://colab.research.google.com/github/jzeiders/401-Senior-Project/blob/master/DataScraping.ipynb\" target=\"_parent\"><img src=\"https://colab.research.google.com/assets/colab-badge.svg\" alt=\"Open In Colab\"/></a>"
      ]
    },
    {
      "cell_type": "markdown",
      "metadata": {
        "id": "ld3WQslUxty4",
        "colab_type": "text"
      },
      "source": [
        "### Imports"
      ]
    },
    {
      "cell_type": "code",
      "metadata": {
        "id": "48R3Ri20xnLp",
        "colab_type": "code",
        "colab": {}
      },
      "source": [
        "import csv\n",
        "import os\n",
        "\n",
        "import urllib"
      ],
      "execution_count": 0,
      "outputs": []
    },
    {
      "cell_type": "markdown",
      "metadata": {
        "id": "2QhYnfQvxwbr",
        "colab_type": "text"
      },
      "source": [
        "### Setup file directories"
      ]
    },
    {
      "cell_type": "code",
      "metadata": {
        "id": "F03ouwRLx1nr",
        "colab_type": "code",
        "colab": {}
      },
      "source": [
        "myloc = \"images\" #replace with your own location\n",
        "key = \"&key=\" + \"\" #got banned after ~100 requests with no key"
      ],
      "execution_count": 0,
      "outputs": []
    },
    {
      "cell_type": "markdown",
      "metadata": {
        "id": "Lpfagz17x8wH",
        "colab_type": "text"
      },
      "source": [
        "### Utility Functions"
      ]
    },
    {
      "cell_type": "code",
      "metadata": {
        "id": "udnl3QlxuwPQ",
        "colab_type": "code",
        "colab": {}
      },
      "source": [
        "def get_street(add,save_loc):\n",
        "  base = \"https://maps.googleapis.com/maps/api/streetview?size=1200x800&location=\"\n",
        "  my_url = base + urllib.quote_plus(add) + key #added url encoding\n",
        "  img_file = add + \".jpg\"\n",
        "  urllib.urlretrieve(my_url, os.path.join(save_loc,img_file))\n",
        "\n",
        "def addresses_from_csv(file_name):\n"
      ],
      "execution_count": 0,
      "outputs": []
    },
    {
      "cell_type": "markdown",
      "metadata": {
        "id": "fWw1BIm2yAea",
        "colab_type": "text"
      },
      "source": [
        "### Download street view images from provided CSV"
      ]
    },
    {
      "cell_type": "code",
      "metadata": {
        "id": "t2_YbglyyGjP",
        "colab_type": "code",
        "colab": {}
      },
      "source": [
        "Tests = [\"457 West Robinwood Street, Detroit, Michigan 48203\",\n",
        "         \"1520 West Philadelphia, Detroit, Michigan 48206\",\n",
        "         \"2292 Grand, Detroit, Michigan 48238\",\n",
        "         \"15414 Wabash Street, Detroit, Michigan 48238\",\n",
        "         \"15867 Log Cabin, Detroit, Michigan 48238\",\n",
        "         \"3317 Cody Street, Detroit, Michigan 48212\",\n",
        "         \"14214 Arlington Street, Detroit, Michigan 48212\"]\n",
        "\n",
        "for i in Tests:\n",
        "  get_street(add=i,save_loc=myloc)"
      ],
      "execution_count": 0,
      "outputs": []
    }
  ]
}