{
  "nbformat": 4,
  "nbformat_minor": 0,
  "metadata": {
    "colab": {
      "name": "DataScraping.ipynb",
      "provenance": [],
      "collapsed_sections": [],
      "toc_visible": true,
      "include_colab_link": true
    },
    "kernelspec": {
      "name": "python3",
      "display_name": "Python 3"
    },
    "accelerator": "GPU"
  },
  "cells": [
    {
      "cell_type": "markdown",
      "metadata": {
        "id": "view-in-github",
        "colab_type": "text"
      },
      "source": [
        "<a href=\"https://colab.research.google.com/github/jzeiders/401-Senior-Project/blob/master/DataScraping.ipynb\" target=\"_parent\"><img src=\"https://colab.research.google.com/assets/colab-badge.svg\" alt=\"Open In Colab\"/></a>"
      ]
    },
    {
      "cell_type": "markdown",
      "metadata": {
        "id": "ld3WQslUxty4",
        "colab_type": "text"
      },
      "source": [
        "### Imports"
      ]
    },
    {
      "cell_type": "code",
      "metadata": {
        "id": "48R3Ri20xnLp",
        "colab_type": "code",
        "colab": {}
      },
      "source": [
        "import csv\n",
        "import os\n",
        "import shutil\n",
        "\n",
        "import urllib\n",
        "import requests"
      ],
      "execution_count": 0,
      "outputs": []
    },
    {
      "cell_type": "markdown",
      "metadata": {
        "id": "2QhYnfQvxwbr",
        "colab_type": "text"
      },
      "source": [
        "### Setup file directories"
      ]
    },
    {
      "cell_type": "code",
      "metadata": {
        "id": "F03ouwRLx1nr",
        "colab_type": "code",
        "colab": {}
      },
      "source": [
        "save_dir = \"/content/drive/My Drive/images\" #replace with your own location\n",
        "key = \"&key=\" + \"\" #got banned after ~100 requests with no key"
      ],
      "execution_count": 0,
      "outputs": []
    },
    {
      "cell_type": "markdown",
      "metadata": {
        "id": "U_VvNSHGG-rk",
        "colab_type": "text"
      },
      "source": [
        "#### Mount Google Drive Locally"
      ]
    },
    {
      "cell_type": "code",
      "metadata": {
        "id": "s29UnB9IHadM",
        "colab_type": "code",
        "colab": {
          "base_uri": "https://localhost:8080/",
          "height": 54
        },
        "outputId": "7d3a3cfb-b098-49eb-b891-38b27cd3a71e"
      },
      "source": [
        "from google.colab import drive\n",
        "drive.mount('/content/drive')"
      ],
      "execution_count": 14,
      "outputs": [
        {
          "output_type": "stream",
          "text": [
            "Drive already mounted at /content/drive; to attempt to forcibly remount, call drive.mount(\"/content/drive\", force_remount=True).\n"
          ],
          "name": "stdout"
        }
      ]
    },
    {
      "cell_type": "markdown",
      "metadata": {
        "id": "Lpfagz17x8wH",
        "colab_type": "text"
      },
      "source": [
        "### Utility Functions"
      ]
    },
    {
      "cell_type": "markdown",
      "metadata": {
        "id": "5Bie00zQGP5H",
        "colab_type": "text"
      },
      "source": [
        "###### Query Street View API"
      ]
    },
    {
      "cell_type": "code",
      "metadata": {
        "id": "udnl3QlxuwPQ",
        "colab_type": "code",
        "colab": {
          "base_uri": "https://localhost:8080/",
          "height": 52
        },
        "outputId": "d762e00f-88d4-4435-ca0e-b18c8bd508ed"
      },
      "source": [
        "def get_image(add,save_loc):\n",
        "  base = \"https://maps.googleapis.com/maps/api/streetview?size=1200x800&location=\"\n",
        "  url = base + requests.compat.quote_plus(add) + key #added url encoding\n",
        "  img_file = add + \".jpg\"\n",
        "\n",
        "  response = requests.get(url, stream=True)\n",
        "  with open(os.path.join(save_dir,img_file), 'wb') as out_file:\n",
        "    response.raw.decode_content = True\n",
        "    shutil.copyfileobj(response.raw, out_file)\n",
        "  del response\n",
        "\n",
        "!ls /content/drive/My\\ Drive/images/"
      ],
      "execution_count": 39,
      "outputs": [
        {
          "output_type": "stream",
          "text": [
            "'14214 Arlington Street, Detroit, Michigan 48212.jpg'\n",
            "'457 West Robinwood Street, Detroit, Michigan 48203.jpg'\n"
          ],
          "name": "stdout"
        }
      ]
    },
    {
      "cell_type": "markdown",
      "metadata": {
        "id": "fWw1BIm2yAea",
        "colab_type": "text"
      },
      "source": [
        "### Download street view images from provided CSV"
      ]
    },
    {
      "cell_type": "code",
      "metadata": {
        "id": "t2_YbglyyGjP",
        "colab_type": "code",
        "colab": {}
      },
      "source": [
        "Tests = [\"457 West Robinwood Street, Detroit, Michigan 48203\",\n",
        "        #  \"1520 West Philadelphia, Detroit, Michigan 48206\",\n",
        "        #  \"2292 Grand, Detroit, Michigan 48238\",\n",
        "        #  \"15414 Wabash Street, Detroit, Michigan 48238\",\n",
        "        #  \"15867 Log Cabin, Detroit, Michigan 48238\",\n",
        "        #  \"3317 Cody Street, Detroit, Michigan 48212\",\n",
        "         \"14214 Arlington Street, Detroit, Michigan 48212\"]\n",
        "\n",
        "for i in Tests:\n",
        "  get_image(add=i,save_loc=myloc)"
      ],
      "execution_count": 0,
      "outputs": []
    }
  ]
}